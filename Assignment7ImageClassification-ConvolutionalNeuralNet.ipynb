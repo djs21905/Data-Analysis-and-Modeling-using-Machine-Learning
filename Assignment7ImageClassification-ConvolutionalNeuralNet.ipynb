{
  "nbformat": 4,
  "nbformat_minor": 0,
  "metadata": {
    "colab": {
      "name": "SmithAssignment7.ipynb",
      "provenance": [],
      "collapsed_sections": [],
      "machine_shape": "hm",
      "include_colab_link": true
    },
    "kernelspec": {
      "name": "python3",
      "display_name": "Python 3"
    },
    "accelerator": "TPU"
  },
  "cells": [
    {
      "cell_type": "markdown",
      "metadata": {
        "id": "view-in-github",
        "colab_type": "text"
      },
      "source": [
        "<a href=\"https://colab.research.google.com/github/djs21905/Machine-Learning/blob/master/SmithAssignment7.ipynb\" target=\"_parent\"><img src=\"https://colab.research.google.com/assets/colab-badge.svg\" alt=\"Open In Colab\"/></a>"
      ]
    },
    {
      "cell_type": "markdown",
      "metadata": {
        "id": "2dED3InqyXwi",
        "colab_type": "text"
      },
      "source": [
        "# Ingest\n",
        "\n",
        "\n",
        "\n",
        "\n"
      ]
    },
    {
      "cell_type": "code",
      "metadata": {
        "id": "PhSNMSOgE9Ic",
        "colab_type": "code",
        "colab": {}
      },
      "source": [
        "import zipfile\n",
        "import requests\n",
        "from io import BytesIO\n",
        "import numpy as np\n",
        "from PIL import Image\n",
        "from tqdm import tqdm \n",
        "\n",
        "\n",
        "# Data Extraction/Conversion to ZIP --> numpy array\n",
        "def ziptonumpy(url,train = False):\n",
        "  size = (200,200)\n",
        "  training_data = []\n",
        "  labels = []\n",
        "  try:\n",
        "    request = requests.get(url)\n",
        "    zipped = zipfile.ZipFile(BytesIO(request.content))\n",
        "    inflist = zipped.infolist()[1:]\n",
        "    if train == False: \n",
        "      for img in tqdm(inflist):\n",
        "        content = Image.open(zipped.open(img))\n",
        "        img = content.resize(size)\n",
        "        training_data.append(np.array(img))\n",
        "    elif train == True: \n",
        "      for img in tqdm(inflist):\n",
        "        label = img.filename[6:]\n",
        "        label_int = 1\n",
        "        content = Image.open(zipped.open(img))\n",
        "        img = content.resize(size)\n",
        "        if \"cat\" in label:\n",
        "          label_int = 0\n",
        "        else:\n",
        "          pass\n",
        "        training_data.append((np.array(img),label_int))\n",
        "  except:\n",
        "    print(\"An error was encountered\")\n",
        "  return np.array(training_data)"
      ],
      "execution_count": 0,
      "outputs": []
    },
    {
      "cell_type": "code",
      "metadata": {
        "id": "Au8xTr9eftoK",
        "colab_type": "code",
        "outputId": "d9b84d96-db16-4026-ed17-1efdb1ba8b97",
        "colab": {
          "base_uri": "https://localhost:8080/",
          "height": 52
        }
      },
      "source": [
        "train_url = \"https://msds422smith.s3.amazonaws.com/train.zip\"\n",
        "test_url = \"https://msds422smith.s3.amazonaws.com/test.zip\"\n",
        "\n",
        "test_data = ziptonumpy(url = test_url)\n",
        "train_data = ziptonumpy(url = train_url, train = True)"
      ],
      "execution_count": 0,
      "outputs": [
        {
          "output_type": "stream",
          "text": [
            "100%|██████████| 12500/12500 [00:32<00:00, 380.10it/s]\n",
            "100%|██████████| 25000/25000 [01:11<00:00, 347.42it/s]\n"
          ],
          "name": "stderr"
        }
      ]
    },
    {
      "cell_type": "code",
      "metadata": {
        "id": "xpaBqrJygDaM",
        "colab_type": "code",
        "colab": {}
      },
      "source": [
        "test_data = test_data/255"
      ],
      "execution_count": 0,
      "outputs": []
    },
    {
      "cell_type": "code",
      "metadata": {
        "id": "HGxTRnzJHxah",
        "colab_type": "code",
        "colab": {}
      },
      "source": [
        "X,y = np.split(train_data, [-1], axis=1)\n",
        "\n",
        "X = np.array([x[0] for x in X])\n",
        "X = X/255"
      ],
      "execution_count": 0,
      "outputs": []
    },
    {
      "cell_type": "code",
      "metadata": {
        "id": "ux_Ksq3F00jk",
        "colab_type": "code",
        "outputId": "6819138f-ca55-4996-bf6b-3e9b4488fabf",
        "colab": {
          "base_uri": "https://localhost:8080/",
          "height": 34
        }
      },
      "source": [
        "X.shape , type(test_data)"
      ],
      "execution_count": 0,
      "outputs": [
        {
          "output_type": "execute_result",
          "data": {
            "text/plain": [
              "((25000, 200, 200, 3), numpy.ndarray)"
            ]
          },
          "metadata": {
            "tags": []
          },
          "execution_count": 9
        }
      ]
    },
    {
      "cell_type": "markdown",
      "metadata": {
        "id": "lsD3c6Kv_jaS",
        "colab_type": "text"
      },
      "source": [
        "# Model"
      ]
    },
    {
      "cell_type": "code",
      "metadata": {
        "id": "PVyi42XSqFWa",
        "colab_type": "code",
        "outputId": "0ed63eb6-c456-42c7-baf2-c5c6641a779e",
        "colab": {
          "base_uri": "https://localhost:8080/",
          "height": 402
        }
      },
      "source": [
        "np.random.seed(1337)\n",
        "\n",
        "from keras.models import Sequential\n",
        "from keras.layers import Dense, Activation, Conv2D, Flatten, Dropout, MaxPool2D\n",
        "from keras.callbacks import History \n",
        "\n",
        "history = History()\n",
        "model = Sequential()\n",
        "\n",
        "model.add(Conv2D(34, (3,3), input_shape=X[0].shape, activation='relu'))\n",
        "model.add(MaxPool2D(pool_size = (2,2)))\n",
        "\n",
        "model.add(Conv2D(64, (3,3), activation='relu'))\n",
        "model.add(MaxPool2D(pool_size = (2,2)))\n",
        "model.add(Dropout(0.4))\n",
        "\n",
        "model.add(Conv2D(128, (3,3), activation='relu'))\n",
        "model.add(MaxPool2D(pool_size = (2,2)))\n",
        "model.add(Dropout(0.4))\n",
        "\n",
        "model.add(Conv2D(128, (3,3), activation='relu'))\n",
        "model.add(MaxPool2D(pool_size = (2,2)))\n",
        "model.add(Dropout(0.4))\n",
        "\n",
        "model.add(Conv2D(256, (3,3), activation='relu'))\n",
        "model.add(MaxPool2D(pool_size = (2,2)))\n",
        "model.add(Dropout(0.4))\n",
        "\n",
        "model.add(Conv2D(512, (1,1), activation='relu'))\n",
        "\n",
        "\n",
        "model.add(Flatten())\n",
        "model.add(Dropout(0.4))\n",
        "\n",
        "model.add(Dense(units=120, activation='relu'))\n",
        "model.add(Dense(units=1, activation='sigmoid'))\n",
        "\n",
        "model.compile(\n",
        "    loss = \"binary_crossentropy\",\n",
        "    optimizer = \"adam\",\n",
        "    metrics = [\"accuracy\"])"
      ],
      "execution_count": 0,
      "outputs": [
        {
          "output_type": "stream",
          "text": [
            "Using TensorFlow backend.\n"
          ],
          "name": "stderr"
        },
        {
          "output_type": "stream",
          "text": [
            "WARNING:tensorflow:From /usr/local/lib/python3.6/dist-packages/keras/backend/tensorflow_backend.py:66: The name tf.get_default_graph is deprecated. Please use tf.compat.v1.get_default_graph instead.\n",
            "\n",
            "WARNING:tensorflow:From /usr/local/lib/python3.6/dist-packages/keras/backend/tensorflow_backend.py:541: The name tf.placeholder is deprecated. Please use tf.compat.v1.placeholder instead.\n",
            "\n",
            "WARNING:tensorflow:From /usr/local/lib/python3.6/dist-packages/keras/backend/tensorflow_backend.py:4432: The name tf.random_uniform is deprecated. Please use tf.random.uniform instead.\n",
            "\n",
            "WARNING:tensorflow:From /usr/local/lib/python3.6/dist-packages/keras/backend/tensorflow_backend.py:4267: The name tf.nn.max_pool is deprecated. Please use tf.nn.max_pool2d instead.\n",
            "\n",
            "WARNING:tensorflow:From /usr/local/lib/python3.6/dist-packages/keras/backend/tensorflow_backend.py:148: The name tf.placeholder_with_default is deprecated. Please use tf.compat.v1.placeholder_with_default instead.\n",
            "\n",
            "WARNING:tensorflow:From /usr/local/lib/python3.6/dist-packages/keras/backend/tensorflow_backend.py:3733: calling dropout (from tensorflow.python.ops.nn_ops) with keep_prob is deprecated and will be removed in a future version.\n",
            "Instructions for updating:\n",
            "Please use `rate` instead of `keep_prob`. Rate should be set to `rate = 1 - keep_prob`.\n",
            "WARNING:tensorflow:From /usr/local/lib/python3.6/dist-packages/keras/optimizers.py:793: The name tf.train.Optimizer is deprecated. Please use tf.compat.v1.train.Optimizer instead.\n",
            "\n",
            "WARNING:tensorflow:From /usr/local/lib/python3.6/dist-packages/keras/backend/tensorflow_backend.py:3657: The name tf.log is deprecated. Please use tf.math.log instead.\n",
            "\n",
            "WARNING:tensorflow:From /usr/local/lib/python3.6/dist-packages/tensorflow_core/python/ops/nn_impl.py:183: where (from tensorflow.python.ops.array_ops) is deprecated and will be removed in a future version.\n",
            "Instructions for updating:\n",
            "Use tf.where in 2.0, which has the same broadcast rule as np.where\n"
          ],
          "name": "stdout"
        }
      ]
    },
    {
      "cell_type": "code",
      "metadata": {
        "id": "2tpOa5n_0fOt",
        "colab_type": "code",
        "outputId": "f3997697-478c-48d1-d5b4-5a3155f38109",
        "colab": {
          "base_uri": "https://localhost:8080/",
          "height": 680
        }
      },
      "source": [
        "output = model.fit(X,y,batch_size=32, epochs=10, validation_split=0.1,verbose = True, callbacks=[history])"
      ],
      "execution_count": 0,
      "outputs": [
        {
          "output_type": "stream",
          "text": [
            "WARNING:tensorflow:From /usr/local/lib/python3.6/dist-packages/keras/backend/tensorflow_backend.py:1033: The name tf.assign_add is deprecated. Please use tf.compat.v1.assign_add instead.\n",
            "\n",
            "WARNING:tensorflow:From /usr/local/lib/python3.6/dist-packages/keras/backend/tensorflow_backend.py:1020: The name tf.assign is deprecated. Please use tf.compat.v1.assign instead.\n",
            "\n",
            "WARNING:tensorflow:From /usr/local/lib/python3.6/dist-packages/keras/backend/tensorflow_backend.py:3005: The name tf.Session is deprecated. Please use tf.compat.v1.Session instead.\n",
            "\n",
            "Train on 22500 samples, validate on 2500 samples\n",
            "Epoch 1/10\n",
            "WARNING:tensorflow:From /usr/local/lib/python3.6/dist-packages/keras/backend/tensorflow_backend.py:190: The name tf.get_default_session is deprecated. Please use tf.compat.v1.get_default_session instead.\n",
            "\n",
            "WARNING:tensorflow:From /usr/local/lib/python3.6/dist-packages/keras/backend/tensorflow_backend.py:197: The name tf.ConfigProto is deprecated. Please use tf.compat.v1.ConfigProto instead.\n",
            "\n",
            "WARNING:tensorflow:From /usr/local/lib/python3.6/dist-packages/keras/backend/tensorflow_backend.py:207: The name tf.global_variables is deprecated. Please use tf.compat.v1.global_variables instead.\n",
            "\n",
            "WARNING:tensorflow:From /usr/local/lib/python3.6/dist-packages/keras/backend/tensorflow_backend.py:216: The name tf.is_variable_initialized is deprecated. Please use tf.compat.v1.is_variable_initialized instead.\n",
            "\n",
            "WARNING:tensorflow:From /usr/local/lib/python3.6/dist-packages/keras/backend/tensorflow_backend.py:223: The name tf.variables_initializer is deprecated. Please use tf.compat.v1.variables_initializer instead.\n",
            "\n",
            "22500/22500 [==============================] - 348s 15ms/step - loss: 0.6881 - acc: 0.5546 - val_loss: 0.7785 - val_acc: 0.0000e+00\n",
            "Epoch 2/10\n",
            "22500/22500 [==============================] - 356s 16ms/step - loss: 0.6790 - acc: 0.5619 - val_loss: 0.7972 - val_acc: 0.0064\n",
            "Epoch 3/10\n",
            "22500/22500 [==============================] - 349s 16ms/step - loss: 0.6347 - acc: 0.6361 - val_loss: 0.6367 - val_acc: 0.6092\n",
            "Epoch 4/10\n",
            "22500/22500 [==============================] - 344s 15ms/step - loss: 0.5471 - acc: 0.7281 - val_loss: 0.9839 - val_acc: 0.4448\n",
            "Epoch 5/10\n",
            "22500/22500 [==============================] - 344s 15ms/step - loss: 0.4690 - acc: 0.7787 - val_loss: 0.4033 - val_acc: 0.8248\n",
            "Epoch 6/10\n",
            "22500/22500 [==============================] - 343s 15ms/step - loss: 0.4178 - acc: 0.8095 - val_loss: 0.7228 - val_acc: 0.6348\n",
            "Epoch 7/10\n",
            "22500/22500 [==============================] - 344s 15ms/step - loss: 0.3804 - acc: 0.8336 - val_loss: 0.4698 - val_acc: 0.7776\n",
            "Epoch 8/10\n",
            "22500/22500 [==============================] - 351s 16ms/step - loss: 0.3671 - acc: 0.8405 - val_loss: 0.5966 - val_acc: 0.7072\n",
            "Epoch 9/10\n",
            "22500/22500 [==============================] - 355s 16ms/step - loss: 0.3342 - acc: 0.8533 - val_loss: 0.3840 - val_acc: 0.8356\n",
            "Epoch 10/10\n",
            "22500/22500 [==============================] - 357s 16ms/step - loss: 0.3180 - acc: 0.8608 - val_loss: 0.4233 - val_acc: 0.8116\n"
          ],
          "name": "stdout"
        }
      ]
    },
    {
      "cell_type": "code",
      "metadata": {
        "id": "zQwBPqGsP7xv",
        "colab_type": "code",
        "colab": {}
      },
      "source": [
        "#model serialization workaround\n",
        "\n",
        "import pickle \n",
        "\n",
        "pickle.dump(output , open(\"model_4.sav\",\"wb\"))\n",
        "history_data = dict(output.history)\n",
        "pickle.dump(history_data , open(\"model_4_hist.sav\",\"wb\"))"
      ],
      "execution_count": 0,
      "outputs": []
    },
    {
      "cell_type": "code",
      "metadata": {
        "id": "YfoZz-6MTb4I",
        "colab_type": "code",
        "outputId": "73277b80-625a-4e2b-c534-1089867a7f93",
        "colab": {
          "base_uri": "https://localhost:8080/",
          "height": 680
        }
      },
      "source": [
        "#verifying my serialization / logic worked\n",
        "\n",
        "test =pickle.load(open(\"model_4.sav\",'rb'))\n",
        "test2 = pickle.load(open(\"model_4_hist.sav\",'rb'))\n",
        "\n"
      ],
      "execution_count": 0,
      "outputs": [
        {
          "output_type": "stream",
          "text": [
            "Using TensorFlow backend.\n"
          ],
          "name": "stderr"
        },
        {
          "output_type": "stream",
          "text": [
            "WARNING:tensorflow:From /usr/local/lib/python3.6/dist-packages/keras/backend/tensorflow_backend.py:541: The name tf.placeholder is deprecated. Please use tf.compat.v1.placeholder instead.\n",
            "\n",
            "WARNING:tensorflow:From /usr/local/lib/python3.6/dist-packages/keras/backend/tensorflow_backend.py:4432: The name tf.random_uniform is deprecated. Please use tf.random.uniform instead.\n",
            "\n",
            "WARNING:tensorflow:From /usr/local/lib/python3.6/dist-packages/keras/backend/tensorflow_backend.py:4267: The name tf.nn.max_pool is deprecated. Please use tf.nn.max_pool2d instead.\n",
            "\n",
            "WARNING:tensorflow:From /usr/local/lib/python3.6/dist-packages/keras/backend/tensorflow_backend.py:66: The name tf.get_default_graph is deprecated. Please use tf.compat.v1.get_default_graph instead.\n",
            "\n",
            "WARNING:tensorflow:From /usr/local/lib/python3.6/dist-packages/keras/backend/tensorflow_backend.py:148: The name tf.placeholder_with_default is deprecated. Please use tf.compat.v1.placeholder_with_default instead.\n",
            "\n",
            "WARNING:tensorflow:From /usr/local/lib/python3.6/dist-packages/keras/backend/tensorflow_backend.py:3733: calling dropout (from tensorflow.python.ops.nn_ops) with keep_prob is deprecated and will be removed in a future version.\n",
            "Instructions for updating:\n",
            "Please use `rate` instead of `keep_prob`. Rate should be set to `rate = 1 - keep_prob`.\n",
            "WARNING:tensorflow:From /usr/local/lib/python3.6/dist-packages/keras/backend/tensorflow_backend.py:190: The name tf.get_default_session is deprecated. Please use tf.compat.v1.get_default_session instead.\n",
            "\n",
            "WARNING:tensorflow:From /usr/local/lib/python3.6/dist-packages/keras/backend/tensorflow_backend.py:197: The name tf.ConfigProto is deprecated. Please use tf.compat.v1.ConfigProto instead.\n",
            "\n",
            "WARNING:tensorflow:From /usr/local/lib/python3.6/dist-packages/keras/backend/tensorflow_backend.py:203: The name tf.Session is deprecated. Please use tf.compat.v1.Session instead.\n",
            "\n",
            "WARNING:tensorflow:From /usr/local/lib/python3.6/dist-packages/keras/backend/tensorflow_backend.py:207: The name tf.global_variables is deprecated. Please use tf.compat.v1.global_variables instead.\n",
            "\n",
            "WARNING:tensorflow:From /usr/local/lib/python3.6/dist-packages/keras/backend/tensorflow_backend.py:216: The name tf.is_variable_initialized is deprecated. Please use tf.compat.v1.is_variable_initialized instead.\n",
            "\n",
            "WARNING:tensorflow:From /usr/local/lib/python3.6/dist-packages/keras/backend/tensorflow_backend.py:223: The name tf.variables_initializer is deprecated. Please use tf.compat.v1.variables_initializer instead.\n",
            "\n",
            "WARNING:tensorflow:From /usr/local/lib/python3.6/dist-packages/keras/optimizers.py:793: The name tf.train.Optimizer is deprecated. Please use tf.compat.v1.train.Optimizer instead.\n",
            "\n",
            "WARNING:tensorflow:From /usr/local/lib/python3.6/dist-packages/keras/backend/tensorflow_backend.py:3657: The name tf.log is deprecated. Please use tf.math.log instead.\n",
            "\n",
            "WARNING:tensorflow:From /usr/local/lib/python3.6/dist-packages/tensorflow_core/python/ops/nn_impl.py:183: where (from tensorflow.python.ops.array_ops) is deprecated and will be removed in a future version.\n",
            "Instructions for updating:\n",
            "Use tf.where in 2.0, which has the same broadcast rule as np.where\n",
            "WARNING:tensorflow:From /usr/local/lib/python3.6/dist-packages/keras/backend/tensorflow_backend.py:1033: The name tf.assign_add is deprecated. Please use tf.compat.v1.assign_add instead.\n",
            "\n",
            "WARNING:tensorflow:From /usr/local/lib/python3.6/dist-packages/keras/backend/tensorflow_backend.py:1020: The name tf.assign is deprecated. Please use tf.compat.v1.assign instead.\n",
            "\n"
          ],
          "name": "stdout"
        }
      ]
    },
    {
      "cell_type": "markdown",
      "metadata": {
        "id": "Jsd-tB-FhtnQ",
        "colab_type": "text"
      },
      "source": [
        "# Model Evalutation"
      ]
    },
    {
      "cell_type": "code",
      "metadata": {
        "id": "9n-WlG1P_qdt",
        "colab_type": "code",
        "colab": {}
      },
      "source": [
        "import pickle\n",
        "from urllib.request import urlopen\n",
        "\n",
        "model_1_history = \"https://msds422smith.s3.amazonaws.com/assignment7models/model_1_hist.sav\"\n",
        "model_1 = \"https://msds422smith.s3.amazonaws.com/assignment7models/model_1.sav\"\n",
        "model_2_history = \"https://msds422smith.s3.amazonaws.com/assignment7models/model_2_hist.sav\"\n",
        "model_2 = \"https://msds422smith.s3.amazonaws.com/assignment7models/model_2.sav\"\n",
        "#model_3_history = \n",
        "#model_3 = \n",
        "\n",
        "#baseline_model = pickle.load(urlopen(\"https://msds422smith.s3.amazonaws.com/baseline_model.sav\"))"
      ],
      "execution_count": 0,
      "outputs": []
    },
    {
      "cell_type": "code",
      "metadata": {
        "id": "3fI-FTvIxunu",
        "colab_type": "code",
        "colab": {}
      },
      "source": [
        "from keras.models import Sequential\n",
        "from keras.layers import Dense, Activation, Conv2D, Flatten, Dropout, MaxPool2D\n",
        "from keras.callbacks import History \n",
        "\n",
        "models = [model_1, model_2]\n",
        "names = [\"model_1_pred\",\"model_2_pred\"]\n",
        "results = []\n",
        "\n",
        "for model, name in zip(models,names):\n",
        "  name = pickle.load(urlopen(model))\n",
        "  a = name.predict_proba(test_data)\n",
        "  results.append(a)\n",
        "\n",
        "#baseline_results = baseline_model.predict_proba(test_data)\n",
        "#baseline_results\n",
        "\n"
      ],
      "execution_count": 0,
      "outputs": []
    },
    {
      "cell_type": "markdown",
      "metadata": {
        "id": "4xVpz6RueaJt",
        "colab_type": "text"
      },
      "source": [
        "# Export Test Results to Kaggle"
      ]
    },
    {
      "cell_type": "code",
      "metadata": {
        "id": "OyO8YkWgItzO",
        "colab_type": "code",
        "outputId": "f240382d-86d5-4015-d5c7-a2dfb6e98785",
        "colab": {
          "base_uri": "https://localhost:8080/",
          "height": 455
        }
      },
      "source": [
        "import pandas as pd\n",
        "\n",
        "#shows probability of class 1 = dog\n",
        "kaggle_export = pd.DataFrame(results[1], index = np.arange(1,12501,1) , columns = [\"label\"])\n",
        "kaggle_export.index.name = 'id'\n",
        "kaggle_export.to_csv(\"model_2.csv\")\n",
        "kaggle_export"
      ],
      "execution_count": 0,
      "outputs": [
        {
          "output_type": "execute_result",
          "data": {
            "text/html": [
              "<div>\n",
              "<style scoped>\n",
              "    .dataframe tbody tr th:only-of-type {\n",
              "        vertical-align: middle;\n",
              "    }\n",
              "\n",
              "    .dataframe tbody tr th {\n",
              "        vertical-align: top;\n",
              "    }\n",
              "\n",
              "    .dataframe thead th {\n",
              "        text-align: right;\n",
              "    }\n",
              "</style>\n",
              "<table border=\"1\" class=\"dataframe\">\n",
              "  <thead>\n",
              "    <tr style=\"text-align: right;\">\n",
              "      <th></th>\n",
              "      <th>label</th>\n",
              "    </tr>\n",
              "    <tr>\n",
              "      <th>id</th>\n",
              "      <th></th>\n",
              "    </tr>\n",
              "  </thead>\n",
              "  <tbody>\n",
              "    <tr>\n",
              "      <th>1</th>\n",
              "      <td>0.789493</td>\n",
              "    </tr>\n",
              "    <tr>\n",
              "      <th>2</th>\n",
              "      <td>0.002917</td>\n",
              "    </tr>\n",
              "    <tr>\n",
              "      <th>3</th>\n",
              "      <td>0.141585</td>\n",
              "    </tr>\n",
              "    <tr>\n",
              "      <th>4</th>\n",
              "      <td>0.999129</td>\n",
              "    </tr>\n",
              "    <tr>\n",
              "      <th>5</th>\n",
              "      <td>0.754810</td>\n",
              "    </tr>\n",
              "    <tr>\n",
              "      <th>...</th>\n",
              "      <td>...</td>\n",
              "    </tr>\n",
              "    <tr>\n",
              "      <th>12496</th>\n",
              "      <td>0.249166</td>\n",
              "    </tr>\n",
              "    <tr>\n",
              "      <th>12497</th>\n",
              "      <td>0.942540</td>\n",
              "    </tr>\n",
              "    <tr>\n",
              "      <th>12498</th>\n",
              "      <td>0.693904</td>\n",
              "    </tr>\n",
              "    <tr>\n",
              "      <th>12499</th>\n",
              "      <td>0.010102</td>\n",
              "    </tr>\n",
              "    <tr>\n",
              "      <th>12500</th>\n",
              "      <td>0.154717</td>\n",
              "    </tr>\n",
              "  </tbody>\n",
              "</table>\n",
              "<p>12500 rows × 1 columns</p>\n",
              "</div>"
            ],
            "text/plain": [
              "          label\n",
              "id             \n",
              "1      0.789493\n",
              "2      0.002917\n",
              "3      0.141585\n",
              "4      0.999129\n",
              "5      0.754810\n",
              "...         ...\n",
              "12496  0.249166\n",
              "12497  0.942540\n",
              "12498  0.693904\n",
              "12499  0.010102\n",
              "12500  0.154717\n",
              "\n",
              "[12500 rows x 1 columns]"
            ]
          },
          "metadata": {
            "tags": []
          },
          "execution_count": 23
        }
      ]
    },
    {
      "cell_type": "code",
      "metadata": {
        "id": "US0WTMjB6XuZ",
        "colab_type": "code",
        "colab": {}
      },
      "source": [
        "history_1 = pickle.load(urlopen(model_1_history))\n",
        "history_2 = pickle.load(urlopen(model_2_history))"
      ],
      "execution_count": 0,
      "outputs": []
    },
    {
      "cell_type": "code",
      "metadata": {
        "id": "casV3PH06pED",
        "colab_type": "code",
        "colab": {}
      },
      "source": [
        "train_acc_1 = history_1['acc'][9]\n",
        "val_acc_1 = history_1['val_acc'][9]\n",
        "\n",
        "train_acc_2 = history_2['acc'][9]\n",
        "val_acc_2 = history_2['val_acc'][9]\n",
        "\n",
        "final_comparison = pd.DataFrame({\"Train_acc\":[train_acc_1,train_acc_2], \"Val_acc\":[val_acc_1,val_acc_2], \"log_loss_score\":[1.81967, 1.86263]}, index = [\"model1\",\"model2\"])\n",
        "\n"
      ],
      "execution_count": 0,
      "outputs": []
    },
    {
      "cell_type": "code",
      "metadata": {
        "id": "0TQVpQCr7j84",
        "colab_type": "code",
        "outputId": "18330796-f8ed-4182-a7bd-4479b1693162",
        "colab": {
          "base_uri": "https://localhost:8080/",
          "height": 112
        }
      },
      "source": [
        "final_comparison"
      ],
      "execution_count": 0,
      "outputs": [
        {
          "output_type": "execute_result",
          "data": {
            "text/html": [
              "<div>\n",
              "<style scoped>\n",
              "    .dataframe tbody tr th:only-of-type {\n",
              "        vertical-align: middle;\n",
              "    }\n",
              "\n",
              "    .dataframe tbody tr th {\n",
              "        vertical-align: top;\n",
              "    }\n",
              "\n",
              "    .dataframe thead th {\n",
              "        text-align: right;\n",
              "    }\n",
              "</style>\n",
              "<table border=\"1\" class=\"dataframe\">\n",
              "  <thead>\n",
              "    <tr style=\"text-align: right;\">\n",
              "      <th></th>\n",
              "      <th>Train_acc</th>\n",
              "      <th>Val_acc</th>\n",
              "      <th>log_loss_score</th>\n",
              "    </tr>\n",
              "  </thead>\n",
              "  <tbody>\n",
              "    <tr>\n",
              "      <th>model1</th>\n",
              "      <td>0.879289</td>\n",
              "      <td>0.8648</td>\n",
              "      <td>1.81967</td>\n",
              "    </tr>\n",
              "    <tr>\n",
              "      <th>model2</th>\n",
              "      <td>0.879733</td>\n",
              "      <td>0.7428</td>\n",
              "      <td>1.86263</td>\n",
              "    </tr>\n",
              "  </tbody>\n",
              "</table>\n",
              "</div>"
            ],
            "text/plain": [
              "        Train_acc  Val_acc  log_loss_score\n",
              "model1   0.879289   0.8648         1.81967\n",
              "model2   0.879733   0.7428         1.86263"
            ]
          },
          "metadata": {
            "tags": []
          },
          "execution_count": 39
        }
      ]
    }
  ]
}
