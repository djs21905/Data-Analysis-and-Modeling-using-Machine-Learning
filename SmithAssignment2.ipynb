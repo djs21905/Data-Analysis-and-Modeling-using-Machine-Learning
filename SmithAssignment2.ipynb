{
  "nbformat": 4,
  "nbformat_minor": 0,
  "metadata": {
    "colab": {
      "name": "SmithAssignment2.ipynb",
      "provenance": [],
      "collapsed_sections": [],
      "include_colab_link": true
    },
    "kernelspec": {
      "name": "python3",
      "display_name": "Python 3"
    }
  },
  "cells": [
    {
      "cell_type": "markdown",
      "metadata": {
        "id": "view-in-github",
        "colab_type": "text"
      },
      "source": [
        "<a href=\"https://colab.research.google.com/github/djs21905/Machine-Learning/blob/master/SmithAssignment2.ipynb\" target=\"_parent\"><img src=\"https://colab.research.google.com/assets/colab-badge.svg\" alt=\"Open In Colab\"/></a>"
      ]
    },
    {
      "cell_type": "markdown",
      "metadata": {
        "id": "2dED3InqyXwi",
        "colab_type": "text"
      },
      "source": [
        "## Ingest\n",
        "\n",
        "\n",
        "\n",
        "\n"
      ]
    },
    {
      "cell_type": "code",
      "metadata": {
        "id": "XI0EZYlXyx6S",
        "colab_type": "code",
        "outputId": "b9560ce8-4ea5-40e6-8fe2-a3c88bddc5f9",
        "colab": {
          "base_uri": "https://localhost:8080/",
          "height": 416
        }
      },
      "source": [
        "import pandas as pd\n",
        "import numpy as np \n",
        "import matplotlib.pyplot as plt\n",
        "\n",
        "\n",
        "bank = pd.read_csv(\"https://gist.githubusercontent.com/djs21905/14ce577835f30ce43b01c118fd8be153/raw/6894e74597aa0b2691d3b0416a9647ba69e03cb1/bank.csv\", sep = \";\")\n",
        "\n",
        "bank.head()\n",
        "\n",
        "bank.dropna()\n",
        "\n",
        "#convert no/yes to an integer value\n",
        "\n",
        "convert_to_binary = {'no' : 0, 'yes' : 1}\n",
        "\n",
        "default = bank[\"default\"].map(convert_to_binary)\n",
        "housing = bank[\"housing\"].map(convert_to_binary)\n",
        "loan = bank[\"loan\"].map(convert_to_binary)\n",
        "response = bank[\"response\"].map(convert_to_binary)\n",
        "\n",
        "bank.info()\n",
        "\n",
        "model_data = np.array([np.array(default), np.array(housing), np.array(loan), \n",
        "    np.array(response)]).T\n",
        "\n",
        "\n",
        "model_data.shape"
      ],
      "execution_count": 0,
      "outputs": [
        {
          "output_type": "stream",
          "text": [
            "<class 'pandas.core.frame.DataFrame'>\n",
            "RangeIndex: 4521 entries, 0 to 4520\n",
            "Data columns (total 17 columns):\n",
            "age          4521 non-null int64\n",
            "job          4521 non-null object\n",
            "marital      4521 non-null object\n",
            "education    4521 non-null object\n",
            "default      4521 non-null object\n",
            "balance      4521 non-null int64\n",
            "housing      4521 non-null object\n",
            "loan         4521 non-null object\n",
            "contact      4521 non-null object\n",
            "day          4521 non-null int64\n",
            "month        4521 non-null object\n",
            "duration     4521 non-null int64\n",
            "campaign     4521 non-null int64\n",
            "pdays        4521 non-null int64\n",
            "previous     4521 non-null int64\n",
            "poutcome     4521 non-null object\n",
            "response     4521 non-null object\n",
            "dtypes: int64(7), object(10)\n",
            "memory usage: 600.5+ KB\n"
          ],
          "name": "stdout"
        },
        {
          "output_type": "execute_result",
          "data": {
            "text/plain": [
              "(4521, 4)"
            ]
          },
          "metadata": {
            "tags": []
          },
          "execution_count": 2
        }
      ]
    },
    {
      "cell_type": "markdown",
      "metadata": {
        "id": "7homPuEdymOi",
        "colab_type": "text"
      },
      "source": [
        "## Logistic Regression Model"
      ]
    },
    {
      "cell_type": "code",
      "metadata": {
        "id": "oMdOQSMoy03O",
        "colab_type": "code",
        "colab": {}
      },
      "source": [
        "from sklearn.model_selection import train_test_split\n",
        "\n",
        "# Split our data into 3 binary features and one response variable\n",
        "x, y = model_data[:,0:3], model_data[:,3]\n",
        "\n",
        "\n",
        "# Split our data into 80/20 train/test split\n",
        "x_train, x_test, y_train , y_test = train_test_split(x,y,test_size = 0.1 , random_state = 42)"
      ],
      "execution_count": 0,
      "outputs": []
    },
    {
      "cell_type": "code",
      "metadata": {
        "id": "BmdaSRWCz72q",
        "colab_type": "code",
        "outputId": "728c6353-47ee-4a31-8178-eee80aa44fcf",
        "colab": {
          "base_uri": "https://localhost:8080/",
          "height": 1000
        }
      },
      "source": [
        "from sklearn.linear_model import LogisticRegression\n",
        "\n",
        "log_classifier = LogisticRegression(C = 100)\n",
        "log_classifier.fit(x_train, y_train)\n",
        "\n",
        "# Returns the final prediction either 0 or 1 \n",
        "log_classifier.predict(x_test)\n",
        "\n",
        "\n",
        "\n",
        "\n",
        "# confirming that the distrubtion for test and train is ok \n",
        "train1 = len(np.where(y_train == 1)[0])/len(y_train) * 100\n",
        "train0 = len(np.where(y_train == 0)[0])/len(y_train) * 100\n",
        "test1 = len(np.where(y_test == 1)[0])/len(y_test) * 100\n",
        "test0 = len(np.where(y_test == 0)[0])/len(y_test) * 100\n",
        "\n",
        "\n",
        "statement = \"\"\"Percent of 1's in training set {}%\\nPercent of 0's in training set {}%\\nPercent of 1's in test set {}%\\nPercent of 0's in test set {}%\"\"\"\n",
        "print(statement.format(train1, train0, test1, test0))\n",
        "\n",
        "# Returns the probability of 0 and 1 respectively\n",
        "log_classifier.predict_proba(x_test)"
      ],
      "execution_count": 0,
      "outputs": [
        {
          "output_type": "stream",
          "text": [
            "Percent of 1's in training set 11.651917404129794%\n",
            "Percent of 0's in training set 88.34808259587021%\n",
            "Percent of 1's in test set 10.375275938189846%\n",
            "Percent of 0's in test set 89.62472406181016%\n"
          ],
          "name": "stdout"
        },
        {
          "output_type": "stream",
          "text": [
            "/usr/local/lib/python3.6/dist-packages/sklearn/linear_model/logistic.py:432: FutureWarning: Default solver will be changed to 'lbfgs' in 0.22. Specify a solver to silence this warning.\n",
            "  FutureWarning)\n"
          ],
          "name": "stderr"
        },
        {
          "output_type": "execute_result",
          "data": {
            "text/plain": [
              "array([[0.8890872 , 0.1109128 ],\n",
              "       [0.83385917, 0.16614083],\n",
              "       [0.83385917, 0.16614083],\n",
              "       [0.9077264 , 0.0922736 ],\n",
              "       [0.83385917, 0.16614083],\n",
              "       [0.83385917, 0.16614083],\n",
              "       [0.9077264 , 0.0922736 ],\n",
              "       [0.83385917, 0.16614083],\n",
              "       [0.83385917, 0.16614083],\n",
              "       [0.83385917, 0.16614083],\n",
              "       [0.83385917, 0.16614083],\n",
              "       [0.9077264 , 0.0922736 ],\n",
              "       [0.9077264 , 0.0922736 ],\n",
              "       [0.83385917, 0.16614083],\n",
              "       [0.9077264 , 0.0922736 ],\n",
              "       [0.9077264 , 0.0922736 ],\n",
              "       [0.83385917, 0.16614083],\n",
              "       [0.83385917, 0.16614083],\n",
              "       [0.9077264 , 0.0922736 ],\n",
              "       [0.9077264 , 0.0922736 ],\n",
              "       [0.9077264 , 0.0922736 ],\n",
              "       [0.95188701, 0.04811299],\n",
              "       [0.83385917, 0.16614083],\n",
              "       [0.83385917, 0.16614083],\n",
              "       [0.9077264 , 0.0922736 ],\n",
              "       [0.9077264 , 0.0922736 ],\n",
              "       [0.9077264 , 0.0922736 ],\n",
              "       [0.83385917, 0.16614083],\n",
              "       [0.9077264 , 0.0922736 ],\n",
              "       [0.9077264 , 0.0922736 ],\n",
              "       [0.83385917, 0.16614083],\n",
              "       [0.9077264 , 0.0922736 ],\n",
              "       [0.95188701, 0.04811299],\n",
              "       [0.9077264 , 0.0922736 ],\n",
              "       [0.90986093, 0.09013907],\n",
              "       [0.90986093, 0.09013907],\n",
              "       [0.83385917, 0.16614083],\n",
              "       [0.9077264 , 0.0922736 ],\n",
              "       [0.9077264 , 0.0922736 ],\n",
              "       [0.83385917, 0.16614083],\n",
              "       [0.9077264 , 0.0922736 ],\n",
              "       [0.9077264 , 0.0922736 ],\n",
              "       [0.83385917, 0.16614083],\n",
              "       [0.9077264 , 0.0922736 ],\n",
              "       [0.9077264 , 0.0922736 ],\n",
              "       [0.9077264 , 0.0922736 ],\n",
              "       [0.95188701, 0.04811299],\n",
              "       [0.9077264 , 0.0922736 ],\n",
              "       [0.9077264 , 0.0922736 ],\n",
              "       [0.90986093, 0.09013907],\n",
              "       [0.9077264 , 0.0922736 ],\n",
              "       [0.9077264 , 0.0922736 ],\n",
              "       [0.9077264 , 0.0922736 ],\n",
              "       [0.9077264 , 0.0922736 ],\n",
              "       [0.9077264 , 0.0922736 ],\n",
              "       [0.9077264 , 0.0922736 ],\n",
              "       [0.83385917, 0.16614083],\n",
              "       [0.9077264 , 0.0922736 ],\n",
              "       [0.95188701, 0.04811299],\n",
              "       [0.83385917, 0.16614083],\n",
              "       [0.83385917, 0.16614083],\n",
              "       [0.83385917, 0.16614083],\n",
              "       [0.79943098, 0.20056902],\n",
              "       [0.9077264 , 0.0922736 ],\n",
              "       [0.9077264 , 0.0922736 ],\n",
              "       [0.83385917, 0.16614083],\n",
              "       [0.95188701, 0.04811299],\n",
              "       [0.8865221 , 0.1134779 ],\n",
              "       [0.83385917, 0.16614083],\n",
              "       [0.95188701, 0.04811299],\n",
              "       [0.9077264 , 0.0922736 ],\n",
              "       [0.9077264 , 0.0922736 ],\n",
              "       [0.90986093, 0.09013907],\n",
              "       [0.9077264 , 0.0922736 ],\n",
              "       [0.83385917, 0.16614083],\n",
              "       [0.9077264 , 0.0922736 ],\n",
              "       [0.83385917, 0.16614083],\n",
              "       [0.95188701, 0.04811299],\n",
              "       [0.9077264 , 0.0922736 ],\n",
              "       [0.94016177, 0.05983823],\n",
              "       [0.9077264 , 0.0922736 ],\n",
              "       [0.95188701, 0.04811299],\n",
              "       [0.83385917, 0.16614083],\n",
              "       [0.8865221 , 0.1134779 ],\n",
              "       [0.9077264 , 0.0922736 ],\n",
              "       [0.9077264 , 0.0922736 ],\n",
              "       [0.9077264 , 0.0922736 ],\n",
              "       [0.83385917, 0.16614083],\n",
              "       [0.83385917, 0.16614083],\n",
              "       [0.9077264 , 0.0922736 ],\n",
              "       [0.83385917, 0.16614083],\n",
              "       [0.9077264 , 0.0922736 ],\n",
              "       [0.9077264 , 0.0922736 ],\n",
              "       [0.83385917, 0.16614083],\n",
              "       [0.90986093, 0.09013907],\n",
              "       [0.83385917, 0.16614083],\n",
              "       [0.9077264 , 0.0922736 ],\n",
              "       [0.9077264 , 0.0922736 ],\n",
              "       [0.9077264 , 0.0922736 ],\n",
              "       [0.9077264 , 0.0922736 ],\n",
              "       [0.83385917, 0.16614083],\n",
              "       [0.83385917, 0.16614083],\n",
              "       [0.95188701, 0.04811299],\n",
              "       [0.9077264 , 0.0922736 ],\n",
              "       [0.9077264 , 0.0922736 ],\n",
              "       [0.83385917, 0.16614083],\n",
              "       [0.83385917, 0.16614083],\n",
              "       [0.83385917, 0.16614083],\n",
              "       [0.9077264 , 0.0922736 ],\n",
              "       [0.83385917, 0.16614083],\n",
              "       [0.9077264 , 0.0922736 ],\n",
              "       [0.83385917, 0.16614083],\n",
              "       [0.9077264 , 0.0922736 ],\n",
              "       [0.83385917, 0.16614083],\n",
              "       [0.9077264 , 0.0922736 ],\n",
              "       [0.9077264 , 0.0922736 ],\n",
              "       [0.9077264 , 0.0922736 ],\n",
              "       [0.9077264 , 0.0922736 ],\n",
              "       [0.9077264 , 0.0922736 ],\n",
              "       [0.83385917, 0.16614083],\n",
              "       [0.9077264 , 0.0922736 ],\n",
              "       [0.9077264 , 0.0922736 ],\n",
              "       [0.90986093, 0.09013907],\n",
              "       [0.94016177, 0.05983823],\n",
              "       [0.95188701, 0.04811299],\n",
              "       [0.83385917, 0.16614083],\n",
              "       [0.95188701, 0.04811299],\n",
              "       [0.9077264 , 0.0922736 ],\n",
              "       [0.83385917, 0.16614083],\n",
              "       [0.9077264 , 0.0922736 ],\n",
              "       [0.9077264 , 0.0922736 ],\n",
              "       [0.83385917, 0.16614083],\n",
              "       [0.90986093, 0.09013907],\n",
              "       [0.90986093, 0.09013907],\n",
              "       [0.9077264 , 0.0922736 ],\n",
              "       [0.83385917, 0.16614083],\n",
              "       [0.83385917, 0.16614083],\n",
              "       [0.83385917, 0.16614083],\n",
              "       [0.9077264 , 0.0922736 ],\n",
              "       [0.9077264 , 0.0922736 ],\n",
              "       [0.9077264 , 0.0922736 ],\n",
              "       [0.83385917, 0.16614083],\n",
              "       [0.9077264 , 0.0922736 ],\n",
              "       [0.83385917, 0.16614083],\n",
              "       [0.83385917, 0.16614083],\n",
              "       [0.83385917, 0.16614083],\n",
              "       [0.9077264 , 0.0922736 ],\n",
              "       [0.9077264 , 0.0922736 ],\n",
              "       [0.83385917, 0.16614083],\n",
              "       [0.9077264 , 0.0922736 ],\n",
              "       [0.83385917, 0.16614083],\n",
              "       [0.9077264 , 0.0922736 ],\n",
              "       [0.83385917, 0.16614083],\n",
              "       [0.9077264 , 0.0922736 ],\n",
              "       [0.9077264 , 0.0922736 ],\n",
              "       [0.9077264 , 0.0922736 ],\n",
              "       [0.83385917, 0.16614083],\n",
              "       [0.83385917, 0.16614083],\n",
              "       [0.83385917, 0.16614083],\n",
              "       [0.9077264 , 0.0922736 ],\n",
              "       [0.83385917, 0.16614083],\n",
              "       [0.83385917, 0.16614083],\n",
              "       [0.83385917, 0.16614083],\n",
              "       [0.95188701, 0.04811299],\n",
              "       [0.95188701, 0.04811299],\n",
              "       [0.9077264 , 0.0922736 ],\n",
              "       [0.9077264 , 0.0922736 ],\n",
              "       [0.8865221 , 0.1134779 ],\n",
              "       [0.90986093, 0.09013907],\n",
              "       [0.9077264 , 0.0922736 ],\n",
              "       [0.9077264 , 0.0922736 ],\n",
              "       [0.9077264 , 0.0922736 ],\n",
              "       [0.83385917, 0.16614083],\n",
              "       [0.9077264 , 0.0922736 ],\n",
              "       [0.9077264 , 0.0922736 ],\n",
              "       [0.9077264 , 0.0922736 ],\n",
              "       [0.9077264 , 0.0922736 ],\n",
              "       [0.9077264 , 0.0922736 ],\n",
              "       [0.83385917, 0.16614083],\n",
              "       [0.9077264 , 0.0922736 ],\n",
              "       [0.83385917, 0.16614083],\n",
              "       [0.83385917, 0.16614083],\n",
              "       [0.83385917, 0.16614083],\n",
              "       [0.9077264 , 0.0922736 ],\n",
              "       [0.9077264 , 0.0922736 ],\n",
              "       [0.95188701, 0.04811299],\n",
              "       [0.9077264 , 0.0922736 ],\n",
              "       [0.9077264 , 0.0922736 ],\n",
              "       [0.8865221 , 0.1134779 ],\n",
              "       [0.9077264 , 0.0922736 ],\n",
              "       [0.9077264 , 0.0922736 ],\n",
              "       [0.90986093, 0.09013907],\n",
              "       [0.9077264 , 0.0922736 ],\n",
              "       [0.83385917, 0.16614083],\n",
              "       [0.9077264 , 0.0922736 ],\n",
              "       [0.83385917, 0.16614083],\n",
              "       [0.9077264 , 0.0922736 ],\n",
              "       [0.9077264 , 0.0922736 ],\n",
              "       [0.9077264 , 0.0922736 ],\n",
              "       [0.90986093, 0.09013907],\n",
              "       [0.9077264 , 0.0922736 ],\n",
              "       [0.83385917, 0.16614083],\n",
              "       [0.9077264 , 0.0922736 ],\n",
              "       [0.95188701, 0.04811299],\n",
              "       [0.9077264 , 0.0922736 ],\n",
              "       [0.95188701, 0.04811299],\n",
              "       [0.9077264 , 0.0922736 ],\n",
              "       [0.83385917, 0.16614083],\n",
              "       [0.83385917, 0.16614083],\n",
              "       [0.9077264 , 0.0922736 ],\n",
              "       [0.83385917, 0.16614083],\n",
              "       [0.9077264 , 0.0922736 ],\n",
              "       [0.9077264 , 0.0922736 ],\n",
              "       [0.9077264 , 0.0922736 ],\n",
              "       [0.9077264 , 0.0922736 ],\n",
              "       [0.90986093, 0.09013907],\n",
              "       [0.95188701, 0.04811299],\n",
              "       [0.9077264 , 0.0922736 ],\n",
              "       [0.9077264 , 0.0922736 ],\n",
              "       [0.9077264 , 0.0922736 ],\n",
              "       [0.9077264 , 0.0922736 ],\n",
              "       [0.95188701, 0.04811299],\n",
              "       [0.9077264 , 0.0922736 ],\n",
              "       [0.9077264 , 0.0922736 ],\n",
              "       [0.9077264 , 0.0922736 ],\n",
              "       [0.83385917, 0.16614083],\n",
              "       [0.9077264 , 0.0922736 ],\n",
              "       [0.83385917, 0.16614083],\n",
              "       [0.9077264 , 0.0922736 ],\n",
              "       [0.9077264 , 0.0922736 ],\n",
              "       [0.9077264 , 0.0922736 ],\n",
              "       [0.83385917, 0.16614083],\n",
              "       [0.83385917, 0.16614083],\n",
              "       [0.83385917, 0.16614083],\n",
              "       [0.83385917, 0.16614083],\n",
              "       [0.9077264 , 0.0922736 ],\n",
              "       [0.95188701, 0.04811299],\n",
              "       [0.83385917, 0.16614083],\n",
              "       [0.9077264 , 0.0922736 ],\n",
              "       [0.83385917, 0.16614083],\n",
              "       [0.83385917, 0.16614083],\n",
              "       [0.83385917, 0.16614083],\n",
              "       [0.83385917, 0.16614083],\n",
              "       [0.83385917, 0.16614083],\n",
              "       [0.9077264 , 0.0922736 ],\n",
              "       [0.83385917, 0.16614083],\n",
              "       [0.9077264 , 0.0922736 ],\n",
              "       [0.9077264 , 0.0922736 ],\n",
              "       [0.9077264 , 0.0922736 ],\n",
              "       [0.90986093, 0.09013907],\n",
              "       [0.9077264 , 0.0922736 ],\n",
              "       [0.83385917, 0.16614083],\n",
              "       [0.9077264 , 0.0922736 ],\n",
              "       [0.9077264 , 0.0922736 ],\n",
              "       [0.90986093, 0.09013907],\n",
              "       [0.9077264 , 0.0922736 ],\n",
              "       [0.83385917, 0.16614083],\n",
              "       [0.9077264 , 0.0922736 ],\n",
              "       [0.9077264 , 0.0922736 ],\n",
              "       [0.83385917, 0.16614083],\n",
              "       [0.9077264 , 0.0922736 ],\n",
              "       [0.83385917, 0.16614083],\n",
              "       [0.83385917, 0.16614083],\n",
              "       [0.9077264 , 0.0922736 ],\n",
              "       [0.9077264 , 0.0922736 ],\n",
              "       [0.83385917, 0.16614083],\n",
              "       [0.9077264 , 0.0922736 ],\n",
              "       [0.9077264 , 0.0922736 ],\n",
              "       [0.83385917, 0.16614083],\n",
              "       [0.9077264 , 0.0922736 ],\n",
              "       [0.83385917, 0.16614083],\n",
              "       [0.9077264 , 0.0922736 ],\n",
              "       [0.94016177, 0.05983823],\n",
              "       [0.8890872 , 0.1109128 ],\n",
              "       [0.9077264 , 0.0922736 ],\n",
              "       [0.90986093, 0.09013907],\n",
              "       [0.9077264 , 0.0922736 ],\n",
              "       [0.83385917, 0.16614083],\n",
              "       [0.83385917, 0.16614083],\n",
              "       [0.9077264 , 0.0922736 ],\n",
              "       [0.9077264 , 0.0922736 ],\n",
              "       [0.83385917, 0.16614083],\n",
              "       [0.90986093, 0.09013907],\n",
              "       [0.9077264 , 0.0922736 ],\n",
              "       [0.9077264 , 0.0922736 ],\n",
              "       [0.9077264 , 0.0922736 ],\n",
              "       [0.9077264 , 0.0922736 ],\n",
              "       [0.83385917, 0.16614083],\n",
              "       [0.9077264 , 0.0922736 ],\n",
              "       [0.9077264 , 0.0922736 ],\n",
              "       [0.90986093, 0.09013907],\n",
              "       [0.95188701, 0.04811299],\n",
              "       [0.83385917, 0.16614083],\n",
              "       [0.95188701, 0.04811299],\n",
              "       [0.9077264 , 0.0922736 ],\n",
              "       [0.9077264 , 0.0922736 ],\n",
              "       [0.9077264 , 0.0922736 ],\n",
              "       [0.9077264 , 0.0922736 ],\n",
              "       [0.83385917, 0.16614083],\n",
              "       [0.9077264 , 0.0922736 ],\n",
              "       [0.9077264 , 0.0922736 ],\n",
              "       [0.9077264 , 0.0922736 ],\n",
              "       [0.9077264 , 0.0922736 ],\n",
              "       [0.9077264 , 0.0922736 ],\n",
              "       [0.9077264 , 0.0922736 ],\n",
              "       [0.9077264 , 0.0922736 ],\n",
              "       [0.9077264 , 0.0922736 ],\n",
              "       [0.9077264 , 0.0922736 ],\n",
              "       [0.9077264 , 0.0922736 ],\n",
              "       [0.95188701, 0.04811299],\n",
              "       [0.95188701, 0.04811299],\n",
              "       [0.83385917, 0.16614083],\n",
              "       [0.83385917, 0.16614083],\n",
              "       [0.9077264 , 0.0922736 ],\n",
              "       [0.9077264 , 0.0922736 ],\n",
              "       [0.9077264 , 0.0922736 ],\n",
              "       [0.9077264 , 0.0922736 ],\n",
              "       [0.83385917, 0.16614083],\n",
              "       [0.95188701, 0.04811299],\n",
              "       [0.83385917, 0.16614083],\n",
              "       [0.9077264 , 0.0922736 ],\n",
              "       [0.9077264 , 0.0922736 ],\n",
              "       [0.9077264 , 0.0922736 ],\n",
              "       [0.9077264 , 0.0922736 ],\n",
              "       [0.83385917, 0.16614083],\n",
              "       [0.9077264 , 0.0922736 ],\n",
              "       [0.9077264 , 0.0922736 ],\n",
              "       [0.9077264 , 0.0922736 ],\n",
              "       [0.9077264 , 0.0922736 ],\n",
              "       [0.90986093, 0.09013907],\n",
              "       [0.90986093, 0.09013907],\n",
              "       [0.9077264 , 0.0922736 ],\n",
              "       [0.9077264 , 0.0922736 ],\n",
              "       [0.9077264 , 0.0922736 ],\n",
              "       [0.9077264 , 0.0922736 ],\n",
              "       [0.8890872 , 0.1109128 ],\n",
              "       [0.9077264 , 0.0922736 ],\n",
              "       [0.83385917, 0.16614083],\n",
              "       [0.83385917, 0.16614083],\n",
              "       [0.9077264 , 0.0922736 ],\n",
              "       [0.9077264 , 0.0922736 ],\n",
              "       [0.9077264 , 0.0922736 ],\n",
              "       [0.83385917, 0.16614083],\n",
              "       [0.9077264 , 0.0922736 ],\n",
              "       [0.83385917, 0.16614083],\n",
              "       [0.95188701, 0.04811299],\n",
              "       [0.9077264 , 0.0922736 ],\n",
              "       [0.83385917, 0.16614083],\n",
              "       [0.83385917, 0.16614083],\n",
              "       [0.9077264 , 0.0922736 ],\n",
              "       [0.9077264 , 0.0922736 ],\n",
              "       [0.9077264 , 0.0922736 ],\n",
              "       [0.9077264 , 0.0922736 ],\n",
              "       [0.90986093, 0.09013907],\n",
              "       [0.9077264 , 0.0922736 ],\n",
              "       [0.83385917, 0.16614083],\n",
              "       [0.90986093, 0.09013907],\n",
              "       [0.9077264 , 0.0922736 ],\n",
              "       [0.83385917, 0.16614083],\n",
              "       [0.9077264 , 0.0922736 ],\n",
              "       [0.90986093, 0.09013907],\n",
              "       [0.9077264 , 0.0922736 ],\n",
              "       [0.9077264 , 0.0922736 ],\n",
              "       [0.83385917, 0.16614083],\n",
              "       [0.83385917, 0.16614083],\n",
              "       [0.83385917, 0.16614083],\n",
              "       [0.9077264 , 0.0922736 ],\n",
              "       [0.9077264 , 0.0922736 ],\n",
              "       [0.9077264 , 0.0922736 ],\n",
              "       [0.9077264 , 0.0922736 ],\n",
              "       [0.9077264 , 0.0922736 ],\n",
              "       [0.9077264 , 0.0922736 ],\n",
              "       [0.9077264 , 0.0922736 ],\n",
              "       [0.9077264 , 0.0922736 ],\n",
              "       [0.83385917, 0.16614083],\n",
              "       [0.8865221 , 0.1134779 ],\n",
              "       [0.9077264 , 0.0922736 ],\n",
              "       [0.9077264 , 0.0922736 ],\n",
              "       [0.90986093, 0.09013907],\n",
              "       [0.83385917, 0.16614083],\n",
              "       [0.95188701, 0.04811299],\n",
              "       [0.90986093, 0.09013907],\n",
              "       [0.9077264 , 0.0922736 ],\n",
              "       [0.79943098, 0.20056902],\n",
              "       [0.95188701, 0.04811299],\n",
              "       [0.83385917, 0.16614083],\n",
              "       [0.9077264 , 0.0922736 ],\n",
              "       [0.9077264 , 0.0922736 ],\n",
              "       [0.95188701, 0.04811299],\n",
              "       [0.83385917, 0.16614083],\n",
              "       [0.9077264 , 0.0922736 ],\n",
              "       [0.9077264 , 0.0922736 ],\n",
              "       [0.9077264 , 0.0922736 ],\n",
              "       [0.9077264 , 0.0922736 ],\n",
              "       [0.83385917, 0.16614083],\n",
              "       [0.95188701, 0.04811299],\n",
              "       [0.9077264 , 0.0922736 ],\n",
              "       [0.9077264 , 0.0922736 ],\n",
              "       [0.95188701, 0.04811299],\n",
              "       [0.9077264 , 0.0922736 ],\n",
              "       [0.9077264 , 0.0922736 ],\n",
              "       [0.83385917, 0.16614083],\n",
              "       [0.9077264 , 0.0922736 ],\n",
              "       [0.9077264 , 0.0922736 ],\n",
              "       [0.95188701, 0.04811299],\n",
              "       [0.83385917, 0.16614083],\n",
              "       [0.9077264 , 0.0922736 ],\n",
              "       [0.95188701, 0.04811299],\n",
              "       [0.90986093, 0.09013907],\n",
              "       [0.83385917, 0.16614083],\n",
              "       [0.83385917, 0.16614083],\n",
              "       [0.83385917, 0.16614083],\n",
              "       [0.9077264 , 0.0922736 ],\n",
              "       [0.9077264 , 0.0922736 ],\n",
              "       [0.9077264 , 0.0922736 ],\n",
              "       [0.83385917, 0.16614083],\n",
              "       [0.83385917, 0.16614083],\n",
              "       [0.9077264 , 0.0922736 ],\n",
              "       [0.9077264 , 0.0922736 ],\n",
              "       [0.83385917, 0.16614083],\n",
              "       [0.9077264 , 0.0922736 ],\n",
              "       [0.9077264 , 0.0922736 ],\n",
              "       [0.83385917, 0.16614083],\n",
              "       [0.9077264 , 0.0922736 ],\n",
              "       [0.95188701, 0.04811299],\n",
              "       [0.83385917, 0.16614083],\n",
              "       [0.83385917, 0.16614083],\n",
              "       [0.95188701, 0.04811299],\n",
              "       [0.9077264 , 0.0922736 ],\n",
              "       [0.9077264 , 0.0922736 ],\n",
              "       [0.9077264 , 0.0922736 ],\n",
              "       [0.9077264 , 0.0922736 ],\n",
              "       [0.9077264 , 0.0922736 ],\n",
              "       [0.9077264 , 0.0922736 ],\n",
              "       [0.95188701, 0.04811299],\n",
              "       [0.95188701, 0.04811299],\n",
              "       [0.9077264 , 0.0922736 ],\n",
              "       [0.9077264 , 0.0922736 ],\n",
              "       [0.90986093, 0.09013907],\n",
              "       [0.9077264 , 0.0922736 ],\n",
              "       [0.95188701, 0.04811299],\n",
              "       [0.9077264 , 0.0922736 ],\n",
              "       [0.83385917, 0.16614083],\n",
              "       [0.9077264 , 0.0922736 ],\n",
              "       [0.9077264 , 0.0922736 ],\n",
              "       [0.9077264 , 0.0922736 ],\n",
              "       [0.9077264 , 0.0922736 ],\n",
              "       [0.83385917, 0.16614083],\n",
              "       [0.9077264 , 0.0922736 ],\n",
              "       [0.9077264 , 0.0922736 ],\n",
              "       [0.9077264 , 0.0922736 ],\n",
              "       [0.9077264 , 0.0922736 ],\n",
              "       [0.83385917, 0.16614083]])"
            ]
          },
          "metadata": {
            "tags": []
          },
          "execution_count": 4
        }
      ]
    },
    {
      "cell_type": "code",
      "metadata": {
        "id": "NHghFa7RujDC",
        "colab_type": "code",
        "outputId": "d8d71395-6045-4b33-8087-c81bd23a175e",
        "colab": {
          "base_uri": "https://localhost:8080/",
          "height": 159
        }
      },
      "source": [
        "from sklearn.model_selection import cross_val_score\n",
        "# Evaluating the model using cross validation \n",
        "\n",
        "cross_val = cross_val_score(log_classifier, x_train, y_train, cv=3, scoring=\"accuracy\")\n",
        "# False sense of accuracy because approximately 90 percent of the responses are 0 \n",
        "# and only 10 % are actually 1.  Accuracy due to chance. \n",
        "\n",
        "cross_val"
      ],
      "execution_count": 0,
      "outputs": [
        {
          "output_type": "stream",
          "text": [
            "/usr/local/lib/python3.6/dist-packages/sklearn/linear_model/logistic.py:432: FutureWarning: Default solver will be changed to 'lbfgs' in 0.22. Specify a solver to silence this warning.\n",
            "  FutureWarning)\n",
            "/usr/local/lib/python3.6/dist-packages/sklearn/linear_model/logistic.py:432: FutureWarning: Default solver will be changed to 'lbfgs' in 0.22. Specify a solver to silence this warning.\n",
            "  FutureWarning)\n",
            "/usr/local/lib/python3.6/dist-packages/sklearn/linear_model/logistic.py:432: FutureWarning: Default solver will be changed to 'lbfgs' in 0.22. Specify a solver to silence this warning.\n",
            "  FutureWarning)\n"
          ],
          "name": "stderr"
        },
        {
          "output_type": "execute_result",
          "data": {
            "text/plain": [
              "array([0.88348083, 0.88348083, 0.88348083])"
            ]
          },
          "metadata": {
            "tags": []
          },
          "execution_count": 5
        }
      ]
    },
    {
      "cell_type": "code",
      "metadata": {
        "id": "bYo_ch4Hu0E8",
        "colab_type": "code",
        "outputId": "8b377d34-c97c-4fed-a90b-5a83744e4554",
        "colab": {
          "base_uri": "https://localhost:8080/",
          "height": 159
        }
      },
      "source": [
        "from sklearn.model_selection import cross_val_predict\n",
        "from collections import Counter\n",
        "\n",
        "# Performs cross validation but returns each instances response values 0 or 1 \n",
        "# TN= 3193, FP= 0, FN= 423, TP= 0\n",
        "y_train_pred = cross_val_predict(log_classifier, x_train, y_train, cv=3)\n",
        "\n",
        "Counter(y_train_pred)"
      ],
      "execution_count": 0,
      "outputs": [
        {
          "output_type": "stream",
          "text": [
            "/usr/local/lib/python3.6/dist-packages/sklearn/linear_model/logistic.py:432: FutureWarning: Default solver will be changed to 'lbfgs' in 0.22. Specify a solver to silence this warning.\n",
            "  FutureWarning)\n",
            "/usr/local/lib/python3.6/dist-packages/sklearn/linear_model/logistic.py:432: FutureWarning: Default solver will be changed to 'lbfgs' in 0.22. Specify a solver to silence this warning.\n",
            "  FutureWarning)\n",
            "/usr/local/lib/python3.6/dist-packages/sklearn/linear_model/logistic.py:432: FutureWarning: Default solver will be changed to 'lbfgs' in 0.22. Specify a solver to silence this warning.\n",
            "  FutureWarning)\n"
          ],
          "name": "stderr"
        },
        {
          "output_type": "execute_result",
          "data": {
            "text/plain": [
              "Counter({0: 4068})"
            ]
          },
          "metadata": {
            "tags": []
          },
          "execution_count": 6
        }
      ]
    },
    {
      "cell_type": "code",
      "metadata": {
        "id": "mTC060pm0g4Q",
        "colab_type": "code",
        "outputId": "645d6d47-8209-4c66-9f92-159f375fe7fe",
        "colab": {
          "base_uri": "https://localhost:8080/",
          "height": 52
        }
      },
      "source": [
        "from sklearn.metrics import confusion_matrix\n",
        "\n",
        "confusion_matrix(y_train, y_train_pred)"
      ],
      "execution_count": 0,
      "outputs": [
        {
          "output_type": "execute_result",
          "data": {
            "text/plain": [
              "array([[3594,    0],\n",
              "       [ 474,    0]])"
            ]
          },
          "metadata": {
            "tags": []
          },
          "execution_count": 7
        }
      ]
    },
    {
      "cell_type": "code",
      "metadata": {
        "id": "_VkY0IDQu9Tt",
        "colab_type": "code",
        "outputId": "38e93bf1-5fca-4563-c1b0-40f39ceee24a",
        "colab": {
          "base_uri": "https://localhost:8080/",
          "height": 124
        }
      },
      "source": [
        "from sklearn.metrics import precision_score, recall_score\n",
        "prec = recall_score(y_train, y_train_pred) # TP / TP + FN  \n",
        "rec = precision_score(y_train, y_train_pred)# TP/ TP + FP \n",
        "\n",
        "# Both equations evaluate to 0\n",
        "print(\"Precision: {}\\nRecall: {}\".format(prec,rec))\n",
        "\n",
        "log_classifier.score(x_train, y_train)\n",
        "log_classifier.score(x_test, y_test)"
      ],
      "execution_count": 0,
      "outputs": [
        {
          "output_type": "stream",
          "text": [
            "Precision: 0.0\n",
            "Recall: 0.0\n"
          ],
          "name": "stdout"
        },
        {
          "output_type": "stream",
          "text": [
            "/usr/local/lib/python3.6/dist-packages/sklearn/metrics/classification.py:1437: UndefinedMetricWarning: Precision is ill-defined and being set to 0.0 due to no predicted samples.\n",
            "  'precision', 'predicted', average, warn_for)\n"
          ],
          "name": "stderr"
        },
        {
          "output_type": "execute_result",
          "data": {
            "text/plain": [
              "0.8962472406181016"
            ]
          },
          "metadata": {
            "tags": []
          },
          "execution_count": 8
        }
      ]
    },
    {
      "cell_type": "code",
      "metadata": {
        "id": "ScoQQzWkvE-t",
        "colab_type": "code",
        "outputId": "c2ad65ed-4bd2-4434-e38c-45df6ea15e47",
        "colab": {
          "base_uri": "https://localhost:8080/",
          "height": 549
        }
      },
      "source": [
        "from sklearn.metrics import precision_recall_curve\n",
        "\n",
        "y_test_decision_scores = log_classifier.decision_function(x_test)\n",
        "\n",
        "precisions, recalls, thresholds = precision_recall_curve(y_test, y_test_decision_scores)\n",
        "\n",
        "def plot_precision_recall_vs_threshold(precisions, recalls, thresholds): \n",
        "  plt.plot(thresholds, precisions[:-1], \"b--\", label=\"Precision\") \n",
        "  plt.plot(thresholds, recalls[:-1], \"g-\", label=\"Recall\")\n",
        "  plt.ylabel(\"Precision/Recall\")\n",
        "  plt.xlabel(\"Threshold\")\n",
        "  plt.legend()\n",
        "  plt.show()\n",
        "\n",
        "def plot_precision_vs_recall(precisions, recalls): \n",
        "  plt.plot(recalls, precisions, \"b-\", label=\"Precision\") \n",
        "  plt.xlabel(\"Recall\")\n",
        "  plt.ylabel(\"Precision\")\n",
        "  plt.show()\n",
        "\n",
        "\n",
        "plot_precision_recall_vs_threshold(precisions, recalls, thresholds)\n",
        "plot_precision_vs_recall(precisions,recalls)\n"
      ],
      "execution_count": 0,
      "outputs": [
        {
          "output_type": "display_data",
          "data": {
            "image/png": "[encoded data removed]",
            "text/plain": [
              "<Figure size 432x288 with 1 Axes>"
            ]
          },
          "metadata": {
            "tags": []
          }
        },
        {
          "output_type": "display_data",
          "data": {
            "image/png": "[encoded data removed]",
            "text/plain": [
              "<Figure size 432x288 with 1 Axes>"
            ]
          },
          "metadata": {
            "tags": []
          }
        }
      ]
    },
    {
      "cell_type": "code",
      "metadata": {
        "id": "gydZJ37GAOhT",
        "colab_type": "code",
        "outputId": "4ca84d69-5032-4534-bb9d-31271606eeec",
        "colab": {
          "base_uri": "https://localhost:8080/",
          "height": 437
        }
      },
      "source": [
        "from sklearn.metrics import roc_curve\n",
        "from sklearn.metrics import roc_auc_score\n",
        "\n",
        "y_test_pred = log_classifier.predict_proba(x_test)\n",
        "y_test_pred_answer = log_classifier.predict(x_test)\n",
        "\n",
        "fpr, tpr, thresholds = roc_curve(y_test, y_test_pred[:,1])\n",
        "\n",
        "plt.plot(fpr, tpr, linewidth=2, label= None) \n",
        "plt.plot([0, 1], [0, 1], 'k--')\n",
        "plt.xlabel(\"False positive rate\")\n",
        "plt.ylabel(\"True positive rate\")\n",
        "plt.title(\"Logistic Regression ROC Curve\")\n",
        "plt.show()\n",
        "\n",
        "auc = roc_auc_score(y_test, y_test_pred[:,1])\n",
        "prec = precision_score(y_test,y_test_pred_answer)\n",
        "rec = recall_score(y_test,y_test_pred_answer)\n",
        "\n",
        "str1 = \"\"\"AUC score of {}\\nPrecision of {}\\nRecall of {}\"\"\"\n",
        "print(str1.format(auc, prec, rec))\n",
        "confusion_matrix(y_test, y_test_pred_answer)"
      ],
      "execution_count": 0,
      "outputs": [
        {
          "output_type": "display_data",
          "data": {
            "image/png": "[encoded data removed]",
            "text/plain": [
              "<Figure size 432x288 with 1 Axes>"
            ]
          },
          "metadata": {
            "tags": []
          }
        },
        {
          "output_type": "stream",
          "text": [
            "AUC score of 0.6103395870453832\n",
            "Precision of 0.0\n",
            "Recall of 0.0\n"
          ],
          "name": "stdout"
        },
        {
          "output_type": "stream",
          "text": [
            "/usr/local/lib/python3.6/dist-packages/sklearn/metrics/classification.py:1437: UndefinedMetricWarning: Precision is ill-defined and being set to 0.0 due to no predicted samples.\n",
            "  'precision', 'predicted', average, warn_for)\n"
          ],
          "name": "stderr"
        },
        {
          "output_type": "execute_result",
          "data": {
            "text/plain": [
              "array([[406,   0],\n",
              "       [ 47,   0]])"
            ]
          },
          "metadata": {
            "tags": []
          },
          "execution_count": 10
        }
      ]
    },
    {
      "cell_type": "code",
      "metadata": {
        "id": "lwTHPrLTeYmp",
        "colab_type": "code",
        "outputId": "2dafde7a-07c6-492a-dc9a-d20bd25295c0",
        "colab": {
          "base_uri": "https://localhost:8080/",
          "height": 235
        }
      },
      "source": [
        "# NOTE PLEASE DISREGARD THIS CELL.  STILL WORKING ON ADJUSTING THRESHOLD.\n",
        "# In this cell im working on changing the balance of precision/recall\n",
        "# I was looking into lowering the threshold value to increase recall\n",
        "# with hopes of increasing the number of True Positive responses.\n",
        "threshold_20_precision = thresholds[np.argmax(precisions >= 0.16)] \n",
        "#y_test_decision_scores = log_classifier.decision_function(x_test)\n",
        "\n",
        "y_test_pred_20= (y_test_decision_scores >= threshold_20_precision)\n",
        "y_test_pred_20\n",
        "\n",
        "#ROC Curve\n",
        "fpr_adj, tpr_adj, thresholds_adj = roc_curve(y_train, y_train_pred_20)\n",
        "plt.plot(fpr_adj, tpr_adj, linewidth=2, label= None) \n",
        "plt.plot([0, 1], [0, 1], 'k--')\n",
        "plt.xlabel(\"False positive rate\")\n",
        "plt.ylabel(\"True positive rate\")\n",
        "plt.title(\"Logistic Regression ROC Curve Lower Threshold\")\n",
        "plt.show()\n",
        "\n",
        "# Values after lowering the threshold \n",
        "auc_adj = roc_auc_score(y_test, y_test_pred_20)\n",
        "prec_adj = precision_score(y_test,y_test_pred_20)\n",
        "rec_adj = recall_score(y_test,y_test_pred_20)\n",
        "\n",
        "str2 = \"\"\"AUC score of {}\\nPrecision of {}\\nRecall of {}\"\"\"\n",
        "print(\"Adjusted Threshold Test Summary:\")\n",
        "print(str2.format(auc_adj, prec_adj, rec_adj))\n",
        "\n",
        "\n",
        "#confusion_matrix(y_train, y_train_pred_20)\n",
        "\n",
        "confusion_matrix(y_test,y_test_pred_20)\n",
        "\n",
        "#Evaluates test data with threshold change\n"
      ],
      "execution_count": 0,
      "outputs": [
        {
          "output_type": "error",
          "ename": "NameError",
          "evalue": "ignored",
          "traceback": [
            "\u001b[0;31m---------------------------------------------------------------------------\u001b[0m",
            "\u001b[0;31mNameError\u001b[0m                                 Traceback (most recent call last)",
            "\u001b[0;32m<ipython-input-12-e64d5e56b74b>\u001b[0m in \u001b[0;36m<module>\u001b[0;34m()\u001b[0m\n\u001b[1;32m      6\u001b[0m \u001b[0;34m\u001b[0m\u001b[0m\n\u001b[1;32m      7\u001b[0m \u001b[0;31m#ROC Curve\u001b[0m\u001b[0;34m\u001b[0m\u001b[0;34m\u001b[0m\u001b[0;34m\u001b[0m\u001b[0m\n\u001b[0;32m----> 8\u001b[0;31m \u001b[0mfpr_adj\u001b[0m\u001b[0;34m,\u001b[0m \u001b[0mtpr_adj\u001b[0m\u001b[0;34m,\u001b[0m \u001b[0mthresholds_adj\u001b[0m \u001b[0;34m=\u001b[0m \u001b[0mroc_curve\u001b[0m\u001b[0;34m(\u001b[0m\u001b[0my_train\u001b[0m\u001b[0;34m,\u001b[0m \u001b[0my_train_pred_20\u001b[0m\u001b[0;34m)\u001b[0m\u001b[0;34m\u001b[0m\u001b[0;34m\u001b[0m\u001b[0m\n\u001b[0m\u001b[1;32m      9\u001b[0m \u001b[0mplt\u001b[0m\u001b[0;34m.\u001b[0m\u001b[0mplot\u001b[0m\u001b[0;34m(\u001b[0m\u001b[0mfpr_adj\u001b[0m\u001b[0;34m,\u001b[0m \u001b[0mtpr_adj\u001b[0m\u001b[0;34m,\u001b[0m \u001b[0mlinewidth\u001b[0m\u001b[0;34m=\u001b[0m\u001b[0;36m2\u001b[0m\u001b[0;34m,\u001b[0m \u001b[0mlabel\u001b[0m\u001b[0;34m=\u001b[0m \u001b[0;32mNone\u001b[0m\u001b[0;34m)\u001b[0m\u001b[0;34m\u001b[0m\u001b[0;34m\u001b[0m\u001b[0m\n\u001b[1;32m     10\u001b[0m \u001b[0mplt\u001b[0m\u001b[0;34m.\u001b[0m\u001b[0mplot\u001b[0m\u001b[0;34m(\u001b[0m\u001b[0;34m[\u001b[0m\u001b[0;36m0\u001b[0m\u001b[0;34m,\u001b[0m \u001b[0;36m1\u001b[0m\u001b[0;34m]\u001b[0m\u001b[0;34m,\u001b[0m \u001b[0;34m[\u001b[0m\u001b[0;36m0\u001b[0m\u001b[0;34m,\u001b[0m \u001b[0;36m1\u001b[0m\u001b[0;34m]\u001b[0m\u001b[0;34m,\u001b[0m \u001b[0;34m'k--'\u001b[0m\u001b[0;34m)\u001b[0m\u001b[0;34m\u001b[0m\u001b[0;34m\u001b[0m\u001b[0m\n",
            "\u001b[0;31mNameError\u001b[0m: name 'y_train_pred_20' is not defined"
          ]
        }
      ]
    },
    {
      "cell_type": "markdown",
      "metadata": {
        "id": "jApdc8XyAB9-",
        "colab_type": "text"
      },
      "source": [
        "# Naive Bayes Bernoulli "
      ]
    },
    {
      "cell_type": "code",
      "metadata": {
        "id": "jP0BNiFeWrV8",
        "colab_type": "code",
        "outputId": "a6cc1f9d-925d-4df1-f762-74c585a8f8c2",
        "colab": {
          "base_uri": "https://localhost:8080/",
          "height": 34
        }
      },
      "source": [
        "from sklearn.naive_bayes import BernoulliNB\n",
        "\n",
        "clf = BernoulliNB()\n",
        "clf.fit(x_train, y_train)"
      ],
      "execution_count": 0,
      "outputs": [
        {
          "output_type": "execute_result",
          "data": {
            "text/plain": [
              "BernoulliNB(alpha=1.0, binarize=0.0, class_prior=None, fit_prior=True)"
            ]
          },
          "metadata": {
            "tags": []
          },
          "execution_count": 13
        }
      ]
    },
    {
      "cell_type": "code",
      "metadata": {
        "id": "fGNNNoCAN4WT",
        "colab_type": "code",
        "outputId": "e8f88c6d-a227-47e1-8f9a-cf095caca9b2",
        "colab": {
          "base_uri": "https://localhost:8080/",
          "height": 312
        }
      },
      "source": [
        "y_test_pred2 = clf.predict_proba(x_test)\n",
        "\n",
        "fpr_bayes, tpr_bayes, thresholds_bayes = roc_curve(y_test, y_test_pred2[:,1])\n",
        "\n",
        "\n",
        "\n",
        "plt.plot(fpr_bayes, tpr_bayes)\n",
        "plt.ylabel(\"True Positive Rate\")\n",
        "plt.xlabel(\"False Positive Rate\")\n",
        "plt.title(\"Naive Bayes ROC Curve\")\n",
        "plt.plot([0, 1], [0, 1], 'k--')\n",
        "plt.show()\n",
        "\n",
        "\n",
        "roc_auc_score(y_test, y_test_pred2[:,1])\n"
      ],
      "execution_count": 0,
      "outputs": [
        {
          "output_type": "display_data",
          "data": {
            "image/png": "[encoded data removed]",
            "text/plain": [
              "<Figure size 432x288 with 1 Axes>"
            ]
          },
          "metadata": {
            "tags": []
          }
        },
        {
          "output_type": "execute_result",
          "data": {
            "text/plain": [
              "0.6103395870453832"
            ]
          },
          "metadata": {
            "tags": []
          },
          "execution_count": 14
        }
      ]
    },
    {
      "cell_type": "markdown",
      "metadata": {
        "id": "k5MsFSLEyrVw",
        "colab_type": "text"
      },
      "source": [
        "## Conclusion"
      ]
    },
    {
      "cell_type": "code",
      "metadata": {
        "id": "LcMqqhBXfNuX",
        "colab_type": "code",
        "outputId": "885a44b7-9e43-495c-b682-6a6d5bc6e9ba",
        "colab": {
          "base_uri": "https://localhost:8080/",
          "height": 52
        }
      },
      "source": [
        "bayes_auc = roc_auc_score(y_test, y_test_pred2[:,1])\n",
        "auc\n",
        "\n",
        "str3 = \"The Logistic AUC score is {}\\nThe Bayes AUC score is {}\"\n",
        "\n",
        "print(str3.format(auc, bayes_auc))"
      ],
      "execution_count": 0,
      "outputs": [
        {
          "output_type": "stream",
          "text": [
            "The Logistic AUC score is 0.6103395870453832\n",
            "The Bayes AUC score is 0.6103395870453832\n"
          ],
          "name": "stdout"
        }
      ]
    },
    {
      "cell_type": "code",
      "metadata": {
        "id": "b_Z8vo9hNUNs",
        "colab_type": "code",
        "colab": {}
      },
      "source": [
        "cross_val_score(clf, x_train, y_train, cv=3, scoring=\"accuracy\")"
      ],
      "execution_count": 0,
      "outputs": []
    }
  ]
}